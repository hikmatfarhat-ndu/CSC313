{
  "nbformat": 4,
  "nbformat_minor": 0,
  "metadata": {
    "colab": {
      "name": "6zMixedData.ipynb",
      "provenance": [],
      "authorship_tag": "ABX9TyNzv/k9MC4RNUYxHlUohg4L",
      "include_colab_link": true
    },
    "kernelspec": {
      "name": "python3",
      "display_name": "Python 3"
    }
  },
  "cells": [
    {
      "cell_type": "markdown",
      "metadata": {
        "id": "view-in-github",
        "colab_type": "text"
      },
      "source": [
        "<a href=\"https://colab.research.google.com/github/hikmatfarhat-ndu/CSC313/blob/master/6zMixedData.ipynb\" target=\"_parent\"><img src=\"https://colab.research.google.com/assets/colab-badge.svg\" alt=\"Open In Colab\"/></a>"
      ]
    },
    {
      "cell_type": "code",
      "metadata": {
        "id": "xir1Ek3CGKnI"
      },
      "source": [
        "import tensorflow as tf"
      ],
      "execution_count": 1,
      "outputs": []
    },
    {
      "cell_type": "code",
      "metadata": {
        "id": "PFGlUp4kGPfz"
      },
      "source": [
        "!git clone https://github.com/emanhamed/Houses-dataset\n"
      ],
      "execution_count": null,
      "outputs": []
    },
    {
      "cell_type": "code",
      "metadata": {
        "id": "48KwRMrkG2Ke"
      },
      "source": [
        "import pandas as pd\n",
        "df=pd.read_csv(\"Houses-dataset/HousesDataset/HousesInfo.txt\",header=None,delim_whitespace=True,\n",
        "               names=[\"bedrooms\",\"bathrooms\",\"size\",\"zipcode\",\"price\"])"
      ],
      "execution_count": 2,
      "outputs": []
    },
    {
      "cell_type": "code",
      "metadata": {
        "id": "0bXxxKFJJ7Tr"
      },
      "source": [
        "df[0:10]"
      ],
      "execution_count": null,
      "outputs": []
    },
    {
      "cell_type": "markdown",
      "metadata": {
        "id": "lGr3NUeq2CHA"
      },
      "source": [
        "count the number of houses per zipcode"
      ]
    },
    {
      "cell_type": "code",
      "metadata": {
        "id": "J46BDxnCthyH"
      },
      "source": [
        "zipcodes=df['zipcode'].value_counts().keys().tolist()\n",
        "counts=df['zipcode'].value_counts().tolist()"
      ],
      "execution_count": 3,
      "outputs": []
    },
    {
      "cell_type": "markdown",
      "metadata": {
        "id": "5rtvHQzh2GKH"
      },
      "source": [
        "remove all the entries with zipcodes containing less than 20 houses"
      ]
    },
    {
      "cell_type": "code",
      "metadata": {
        "id": "uwiRENZ5t1j-"
      },
      "source": [
        "for count,zipcode in zip(counts,zipcodes):\n",
        "  if count<20:\n",
        "    idx=df[df['zipcode']==zipcode].index\n",
        "    df.drop(idx,inplace=True)"
      ],
      "execution_count": 4,
      "outputs": []
    },
    {
      "cell_type": "code",
      "metadata": {
        "id": "ASaS65if2Uxq"
      },
      "source": [
        "df[0:10]"
      ],
      "execution_count": null,
      "outputs": []
    },
    {
      "cell_type": "code",
      "metadata": {
        "id": "GpVKwv0e2nqk"
      },
      "source": [
        "import cv2\n",
        "\n",
        "images=[]\n",
        "prefix=\"Houses-dataset/HousesDataset/\"\n",
        "suffix=\"_frontal.jpg\"\n",
        "for idx in df.index.tolist():\n",
        "  path=prefix+str(idx)+suffix\n",
        "  img=cv2.imread(path)\n",
        "  img=cv2.resize(img,(48,48))\n",
        "  images.append(img)"
      ],
      "execution_count": 5,
      "outputs": []
    },
    {
      "cell_type": "code",
      "metadata": {
        "id": "ucfzCiOMegoq"
      },
      "source": [
        "len(images)\n",
        "import numpy as np\n",
        "dataset=np.stack(images)"
      ],
      "execution_count": 6,
      "outputs": []
    },
    {
      "cell_type": "code",
      "metadata": {
        "id": "26jbazrd5eEc",
        "outputId": "4f3de298-8935-46e9-ab4f-d52ce298bbe3",
        "colab": {
          "base_uri": "https://localhost:8080/"
        }
      },
      "source": [
        "dataset.shape"
      ],
      "execution_count": 7,
      "outputs": [
        {
          "output_type": "execute_result",
          "data": {
            "text/plain": [
              "(384, 48, 48, 3)"
            ]
          },
          "metadata": {
            "tags": []
          },
          "execution_count": 7
        }
      ]
    },
    {
      "cell_type": "code",
      "metadata": {
        "id": "kpC2Duph6VJv"
      },
      "source": [
        ""
      ],
      "execution_count": null,
      "outputs": []
    }
  ]
}